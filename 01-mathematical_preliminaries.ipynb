{
 "cells": [
  {
   "cell_type": "markdown",
   "metadata": {},
   "source": [
    "# Notes on Lecture 1"
   ]
  },
  {
   "cell_type": "markdown",
   "metadata": {},
   "source": [
    "The reading material assigned at the first lecture consists of a quick review of multivariable calculus, linear algebra, metric space theory, Hilbert space theory, probability, and statistics. Given the enormous volume of review material, I assume that the instructor expects students to be already familiar with the material. I will adhere to this as well and provide only a cursory sketch of the material."
   ]
  },
  {
   "cell_type": "markdown",
   "metadata": {},
   "source": [
    "**Table of Contents**\n",
    "\n",
    "1. Functions\n",
    "2. Metric Spaces\n",
    "  - Basic Definitions\n",
    "  - Limit and Continuity\n",
    "  - Complete Metric Spaces\n",
    "  - Compact Metric Spaces\n",
    "3. Normed Linear Spaces\n",
    "  - Vector Spaces\n",
    "  - Norm\n",
    "  - Euclidean Space\n",
    "  - Sequence Spaces\n",
    "  - Lebesgue Spaces\n",
    "  - Uniform Norm\n",
    "  - Operator Norm\n",
    "  - Matrix Operator Norm\n",
    "4. Inner Product Spaces\n",
    "  - Definitions and Examples\n",
    "  - Orthogonality\n",
    "  - Unitary Classification of Hilbert Spaces\n",
    "  - Hilbert Spaces with a Countable Orthonormal Basis\n",
    "5. Singular Value Decomposition\n",
    "6. Multivariate Differentiation\n",
    "7. Probability\n",
    "8. Statistics"
   ]
  },
  {
   "cell_type": "markdown",
   "metadata": {},
   "source": [
    "## 1. Functions"
   ]
  },
  {
   "cell_type": "markdown",
   "metadata": {},
   "source": [
    "### 1.1. Definitions"
   ]
  },
  {
   "cell_type": "markdown",
   "metadata": {},
   "source": [
    "**1.1.1.** A function with [domain](https://en.wikipedia.org/wiki/Domain_of_a_function) $X$ and [codomain](https://en.wikipedia.org/wiki/Codomain) $Y$, denoted by $f:X \\to Y$, is a collection of ordered pairs $(x,y)$ with $x \\in X$ and $y \\in Y$ such that, for each $x \\in X$, there is only one $y \\in Y$. This is the set-theoretic formalization of the naïve notion of *a rule that assigns a unique value to each input*. \n",
    "\n",
    "We note that the set-theoretic definition of a function encompasses multivariate functions as well. Indeed, A multivariate function $f(x_1,\\ldots,x_n)$ with values in $Y$ and variables $x_i \\in X^i$ for each $1 \\leq i \\leq n$ is, in fact, a function from the [Cartesian product](https://en.wikipedia.org/wiki/Cartesian_product) $X^1 \\times \\cdots \\times X^n$ to $Y$.\n",
    "\n",
    "**1.1.2.** We write $\\operatorname{dom} f$ and $\\operatorname{im} f$ to denote the domain and the [range](https://en.wikipedia.org/wiki/Range_(mathematics)) of a funtion $f$. A function $f:X \\to Y$ is **injective** if $f(x) = f(x')$ implies $x = x'$ for all chocies of $x,x' \\in X$. $f$ is **surjective** if, for each $y \\in Y$, there exists at least one $x \\in X$ such that $f(x) = y$. $f$ is **bijective** if $f$ is both injective and surjective. If $f$ is bijective, then, for each $y \\in Y$, there is precisely one $x \\in X$ such that $f(x) = y$. Therefore, we can construct a unique **inverse function** $f^{-1}:Y \\to X$ such that $f^{-1}(y) = x$ whenever $f(x) = y$. In light of this, we call a bijective $f$ an **invertible function**.\n",
    "\n",
    "**1.1.3.** Given a function $f:X \\to Y$, the notation $f^{-1}$ is also be used to denote the **<a href=\"https://en.wikipedia.org/wiki/Image_(mathematics)#Inverse_image\">preimage function</a>** $f^{-1}:\\mathcal{P}(Y) \\to \\mathcal{P}(X)$, where $\\mathcal{P}(S)$ denotes the [power set](https://en.wikipedia.org/wiki/Power_set) of a set $S$. The preimage function is defined by the formula\n",
    "\n",
    "$$f^{-1}(A) = \\{x \\in X: f(x) \\in A\\}$$\n",
    "\n",
    "for each subset $A$ of $Y$. If $f$ is invertible, then the preimage of a singleton set is always a singleton set. By considering the <a href=\"https://en.wikipedia.org/wiki/Restriction_(mathematics)\">restriction</a> $f^{-1}|_{S}$ of the preimage function to the collection\n",
    "\n",
    "$$S = \\{ \\{y\\} : y \\in Y\\}$$\n",
    "\n",
    "all singleton sets and identifying singleton sets with their elements, we see that the preimage function of an invertible function coincides with the inverse function.\n",
    "\n",
    "Similar to the preimage function, the **forward image function** $f:\\mathcal{P}(X) \\to \\mathcal{P}(Y)$ is defined by the formula\n",
    "\n",
    "$$f(A) = \\{f(x) : x \\in A\\}$$\n",
    "\n",
    "for each subset $A$ of $X$. The subset $f(A)$ of $Y$ is typically called the **image** of $A$ under $f$."
   ]
  },
  {
   "cell_type": "markdown",
   "metadata": {},
   "source": [
    "## 2. Metric Spaces"
   ]
  },
  {
   "cell_type": "markdown",
   "metadata": {},
   "source": [
    "### 2.1. Basic Definitions"
   ]
  },
  {
   "cell_type": "markdown",
   "metadata": {},
   "source": [
    "**2.1.1.** A **metric space** is a collection of points with a measure of distance between each pair of two points. Formally, a metric space is a set $X$  equipped with a **distance function** $d:X \\times X \\to [0,\\infty)$ such that\n",
    "\n",
    "- $d$ adheres to the principle of the [identity of the indiscernables](https://en.wikipedia.org/wiki/Identity_of_indiscernibles),\n",
    "- $d$ is symmetric, i.e., $d(x,y) = d(y,x)$ for all $x,y \\in X$, and\n",
    "- $d$ satisfies the **[triangle inequality](https://en.wikipedia.org/wiki/Triangle_inequality)**, i.e., $d(x,z) \\leq d(x,y) + d(y,z)$ for all $x,y,z \\in X$.\n",
    "\n",
    "Metric spaces provide a nice abstraction that encompasses many important mathematical objects, such as the Euclidean space, the Hilbert space,  (normed) function spaces, weighted graphs, and so on."
   ]
  },
  {
   "cell_type": "markdown",
   "metadata": {},
   "source": [
    "**2.1.2.** Metric spaces are also particularly well-behaved examples of [topological spaces](https://en.wikipedia.org/wiki/Topological_space), which abstract the notion of *nearness*. The building blocks of all topological arguments are **open sets**: a subset $U$ of a metric space $(X,d)$ is said to be **open in $X$** if, for each $x \\in X$, there exists $\\epsilon > 0$ such that the open ball of radius $\\epsilon$ centered at $x$\n",
    "\n",
    "$$B(x;\\epsilon) = \\{y \\in X; d(x,y) < \\epsilon\\}$$\n",
    "\n",
    "is a subset of $U$. A subset of $(X,d)$ is said to be **closed in $X$** if its [set complement](https://en.wikipedia.org/wiki/Complement_(set_theory)) in $X$ is open.\n",
    "\n",
    "We observe that $X$ and $\\varnothing$ are both open and closed in $X$. If no other subset of $X$ is both open and closed in $X$, we say that $(X,d)$ is a **connected metric space**."
   ]
  },
  {
   "cell_type": "markdown",
   "metadata": {},
   "source": [
    "**2.1.3.** Given a subset $Z$ of a metric space $(X,d_X)$, we can define the **induced metric** $d_Z$ in $Z$ as the restriction $d_Z = d_X|_{Z \\times Z}$. The resulting metric space $(Z,d_Z)$ is called a **metric subspace** of $(X,d_X)$."
   ]
  },
  {
   "cell_type": "markdown",
   "metadata": {},
   "source": [
    "**2.1.4.** In discussing open sets and closed sets, it is crucial that we specify the underlying metric space. Consider, for example, the real line $\\mathbb{R}$ with the usual Euclidean metric\n",
    "\n",
    "$$d(x,x') = \\sqrt{|x - x'|^2}.$$\n",
    "\n",
    "A singleton set in $\\mathbb{R}$ is never open in $\\mathbb{R}$, as no open ball&mdash;[open intervals](http://mathworld.wolfram.com/OpenInterval.html), in this case&mdash;can fit into a singleton set. Nevertheless, $\\{0\\}$ with the metric induced from the Euclidean metric has the singleton set $\\{0\\}$ has an open subset."
   ]
  },
  {
   "cell_type": "markdown",
   "metadata": {},
   "source": [
    "### 2.2. Limit and Continuity"
   ]
  },
  {
   "cell_type": "markdown",
   "metadata": {},
   "source": [
    "**2.2.1.**  The <a href=\"https://en.wikipedia.org/wiki/(%CE%B5,_%CE%B4)-definition_of_limit\">$\\epsilon$-$\\delta$ definition of limit and continuity</a> generalizes to metric spaces. Indeed, the we say that $L \\in Y$ is the **limit** a function $f:(X,d_X) \\to (Y,d_Y)$ at $x_0 \\in X$ in case, for each $\\epsilon > 0$, there exists a $\\delta > 0$ such that\n",
    "\n",
    "$$d_Y(f(x_0),f(x)) < \\epsilon \\hspace{1em} \\mbox{ whenever } \\hspace{1em} d_X(x_0,x) < \\delta.$$\n",
    "\n",
    "$f$ is **continuous** at $x_0 \\in X$ if\n",
    "\n",
    "$$f(x_0) = \\lim_{x \\to x_0} f(x).$$\n",
    "\n",
    "We say that $f$ is continuous if $f$ is continuous at every point of $X$."
   ]
  },
  {
   "cell_type": "markdown",
   "metadata": {},
   "source": [
    "**2.2.2.** It is also possible to generalize the notion of the limit of a sequence. We say that a sequence $(x_n)_{n=0}^\\infty$ of points in $(X,d)$ **converges** to $L \\in X$ in case, for each $\\epsilon > 0$, there exists an integer $N_\\epsilon$ such that\n",
    "\n",
    "$$d(x_n, L) < \\epsilon$$\n",
    "\n",
    "whenever $n \\geq N_\\epsilon$. We remark that a subset $E$ of a metric space $(X, d_X)$ is closed if and only if every convergent sequence in $X$ whose terms are elements of $E$ has its limit in $E$ as well."
   ]
  },
  {
   "cell_type": "markdown",
   "metadata": {},
   "source": [
    "**2.2.3.** It is a standard fact in metric space theory that the continuous image of a connected set is connected. Formally, if $f:(X,d_X) \\to (Y,d_Y)$ is continuous, and if $(X,d_X)$ is connected, then $\\operatorname{im} f$ with the induced metric from $Y$ is also a connected metric space. If $X = Y = \\mathbb{R}$ with the standard Euclidean distance\n",
    "\n",
    "$$d(x,x') = \\sqrt{|x-x'|^2},$$\n",
    "\n",
    "then the only connected subsets are the <a href=\"https://en.wikipedia.org/wiki/Interval_(mathematics)\">intervals</a>. Therefore, continuous functions map intervals to intervals. In particular, the function takes all *intermediate values*, a result commonly known as the **[intermediate value theorem](https://en.wikipedia.org/wiki/Intermediate_value_theorem)**."
   ]
  },
  {
   "cell_type": "markdown",
   "metadata": {},
   "source": [
    "### 2.3. Complete Metric Spaces"
   ]
  },
  {
   "cell_type": "markdown",
   "metadata": {},
   "source": [
    "**2.3.1.** Often, we are interested in metric spaces without holes in the space, as far as limits are concerned. Formally, a **Cauchy sequence** in $(X,d)$ is a sequence $(x_n)_{n=0}^\\infty$ of points in $X$ such that, for each $\\epsilon > 0$, there exists an integer $N_\\epsilon$ such that\n",
    "\n",
    "$$d(x_n, x_m) < \\epsilon$$\n",
    "\n",
    "whenever $n,m \\geq N_\\epsilon$. A metric space $(X,d)$ is said to be **complete** if every Cauchy sequence converges to a limit."
   ]
  },
  {
   "cell_type": "markdown",
   "metadata": {},
   "source": [
    "**2.3.2.** Completeness is a technical condition that allows many limit arguments to go through smoothly. Most metric spaces we shall work with in this course will be complete. For now, we merely remark that the $n$-dimensional Euclidean space $\\mathbb{R}^n$ with the standard Euclidean metric\n",
    "\n",
    "$$d(\\vec{v}, \\vec{w}) = \\sqrt{\\|\\vec{v} - \\vec{w}\\|^2} = \\sqrt{\\sum_{i=1}^n |v^i-w^i|^2}$$\n",
    "\n",
    "is complete."
   ]
  },
  {
   "cell_type": "markdown",
   "metadata": {},
   "source": [
    "### 2.4. Compact Metric Spaces"
   ]
  },
  {
   "cell_type": "markdown",
   "metadata": {},
   "source": [
    "**2.4.1.** We are also interested in metric spaces that retain the key propertise of finite spaces. As Terence Tao [points out](http://www.math.ucla.edu/~tao/preprints/compactness.pdf), every function $f:X \\to \\mathbb{R}$ on a finite set $X$ satisfy the following properties:\n",
    "\n",
    "- $f$ is bounded, i.e., there exists a real number $M$ such that $|f(x)| \\leq M$ for all $x \\in X$, and\n",
    "- $f$ attains its maximum, i.e., there exists a point $x_0 \\in X$ such that $f(x_0) \\geq f(x)$ for all $x \\in X$.\n",
    "\n",
    "Moreover, every sequence $(x_n)_{n=0}^\\infty$ in $X$ has an eventually constant subsequence, i.e., there exists a [subsequence](https://en.wikipedia.org/wiki/Subsequence) $(x_{n_k})_{k=0}^\\infty$ and an integer $N$ such that $x_N = x_{n_k}$ for all $k \\geq N$.\n",
    "\n",
    "These properties make the analysis of functions on a finite set quite simple."
   ]
  },
  {
   "cell_type": "markdown",
   "metadata": {},
   "source": [
    "The metric-space generalization of finiteness is **compactness**. A metric space $(X,d)$ is compact if every open cover admits a finite subcover. In other words, if $\\{U_\\alpha\\}_\\alpha$ is a collection of open subsets of $X$, potentially [uncountable](https://en.wikipedia.org/wiki/Uncountable_set), such that\n",
    "\n",
    "$$\\bigcup_\\alpha U_\\alpha = X,$$\n",
    "\n",
    "then there is a finite subcollection $\\{U_0,\\ldots,U_{N-1}\\}$ of $\\{U_\\alpha\\}_\\alpha$ such that\n",
    "\n",
    "$$\\bigcup_{n=0}^{N-1} U_n = X.$$"
   ]
  },
  {
   "cell_type": "markdown",
   "metadata": {},
   "source": [
    "**2.4.2.** All finite metric spaces are compact, of course. The **[Heine&ndash;Borel theorem](https://en.wikipedia.org/wiki/Heine%E2%80%93Borel_theorem)** states that a subset of the Euclidean $n$-space $\\mathbb{R}^n$ with the usual Euclidean metric\n",
    "\n",
    "$$d(\\vec{v}, \\vec{w}) = \\sqrt{\\|\\vec{v} - \\vec{w}\\|^2} = \\sqrt{\\sum_{i=1}^n |v^i-w^i|^2}$$\n",
    "\n",
    "is compact if and only if it is closed and bounded. In general, a metric space is compact if and only if it is [complete and totally bounded](https://en.wikipedia.org/wiki/Heine%E2%80%93Borel_theorem#Generalizations). It follows, in particular, that all compact metric spaces are complete (**§2.3**)."
   ]
  },
  {
   "cell_type": "markdown",
   "metadata": {},
   "source": [
    "**2.4.3.** We now recover the aforementioned finiteness properties. To this end, the additional assumption of continuity is necessary."
   ]
  },
  {
   "cell_type": "markdown",
   "metadata": {},
   "source": [
    "We let $(K,d_k)$ be a metric space."
   ]
  },
  {
   "cell_type": "markdown",
   "metadata": {},
   "source": [
    "Firstly, every continuous (**§2.2.1**) function $f:(K,d_K) \\to \\mathbb{R}$ is bounded. The crucial fact here is that the image of a compact metric space under a continuous mapping is compact. By the Heine&ndash;Borel theorem, every compact subset of the Euclidean space is bounded, and so the image set is bounded as well."
   ]
  },
  {
   "cell_type": "markdown",
   "metadata": {},
   "source": [
    "Secondly, every continuous function $f:(K,d_K) \\to \\mathbb{R}$ attains its maximum. Once again, the image of a compact metric space under a continuous mapping is compact, and so $\\operatorname{im} f$ is a compact subset of $\\mathbb{R}$. By the Heine&ndash;Borel theorem (**§2.4.2**), $\\operatorname{im} f$ is closed and bounded. Since $\\operatorname{im} f$ is bounded, the [supremum](https://en.wikipedia.org/wiki/Infimum_and_supremum) $M$ of $\\operatorname{im} f$ exists. Finally, $\\operatorname{im} f$ is closed, and so $M$ is contained in $\\operatorname{im} f$ (**§2.2.2**). Therefore $M$ is the maximum of $f$, and $f$ attains its maximum. This is the metric-space generalization of an elementary calculus theorem known as the **[extreme value theorem](https://en.wikipedia.org/wiki/Extreme_value_theorem)**."
   ]
  },
  {
   "cell_type": "markdown",
   "metadata": {},
   "source": [
    "Lastly, every sequence $(x_n)_{n=0}^\\infty$ in $(K,d_k)$ has a convergent subsequence, a result known as the **[Bolzano&ndash;Weierstrass](https://en.wikipedia.org/wiki/Bolzano%E2%80%93Weierstrass_theorem) theorem**. The proof is a bit more involved and thus we omit it."
   ]
  },
  {
   "cell_type": "markdown",
   "metadata": {},
   "source": [
    "We remark that compactness is a technical condition useful in the study of kernel methods, via [Mercer's condition](http://www.cs.nyu.edu/~mohri/mls/lecture_5.pdf)."
   ]
  },
  {
   "cell_type": "markdown",
   "metadata": {},
   "source": [
    "## 3. Normed Linear Spaces"
   ]
  },
  {
   "cell_type": "markdown",
   "metadata": {},
   "source": [
    "### 3.1. Vector Spaces"
   ]
  },
  {
   "cell_type": "markdown",
   "metadata": {},
   "source": [
    "**3.1.1.** We now discuss one of the most frequently used class of metric spaces: normed linear spaces. We recall that a **real vector space** is a set $V$ equipped with a vector addition operation $+:V \\times V \\to V$ and a scalar multiplication operation $\\cdot:\\mathbb{R} \\times V \\to V$ that satisfy the following conditions:\n",
    "\n",
    "- vector addition is commutative, viz., $v + w = w + v$ for all $v,w \\in V$;\n",
    "- vector addition is associative, viz., $(v + w) + x = v + (w + x)$ for all $v,w,x \\in V$;\n",
    "- the additive identity $0_V$ exists, so that $v + 0_V = 0_V + v = v$ for all $v \\in V$;\n",
    "- vector addition is invertible, viz., each $v \\in V$ admits $-v \\in V$ such that $v + (-v) = (-v) + v = 0_V$;\n",
    "- scalar multiplication is associative, viz., $a \\cdot (b \\cdot v) = (ab) \\cdot v$ for all $a,b \\in V$;\n",
    "- scalar multiplication is distributive, viz., $a \\cdot (v+w) = a \\cdot v + a \\cdot w$ and $(a+b) \\cdot v = a \\cdot v + b \\cdot v$ for all $a,b \\in \\mathbb{R}$ and $v,w \\in V$;\n",
    "- $1$ is the scalar multiplicative identity, viz., $1 \\cdot V = v$ for all $v \\in V$;\n",
    "- $0 \\cdot v = 0_V$ for all $v \\in V$;\n",
    "- $(-1) \\cdot v = -v$ for all $v \\in V$.\n",
    "\n",
    "By substituting $\\mathbb{R}$ with $\\mathbb{C}$, we arrive at the definition of a **complex vector space**. To simplify the exposition, we shall speak of a vector space over a field $\\mathbb{F}$, where $\\mathbb{F}$ can denote either $\\mathbb{R}$ or $\\mathbb{C}$."
   ]
  },
  {
   "cell_type": "markdown",
   "metadata": {},
   "source": [
    "**3.1.2** Given a vector space $V$ over $\\mathbb{F}$, we say that a subset $M$ of $V$ is a **linear subspace** of $V$ if $ax+by \\in M$ whenever $a,b \\in \\mathbb{F}$ and $x,y \\in M$. In other words, inheriting the vector-space structure of $V$ turns $M$ into a vector space."
   ]
  },
  {
   "cell_type": "markdown",
   "metadata": {},
   "source": [
    "For example, the Euclidena $n$-space $\\mathbb{R}^n$ with coordinatewise addition\n",
    "\n",
    "$$v + w = (v^1 + w^1, \\ldots, v^n + w^n)$$\n",
    "\n",
    "and coordinatewise scalar multiplication\n",
    "\n",
    "$$av = (av^1,\\ldots,av^n)$$\n",
    "\n",
    "is a vector space. Whenever $m \\leq n$, the subset\n",
    "\n",
    "$$\\{(v^1,\\ldots,v^m, 0, \\ldots, 0) : v^1,\\ldots,v^m \\in \\mathbb{R}\\}$$\n",
    "\n",
    "is a linear subspace of $\\mathbb{R}^n$."
   ]
  },
  {
   "cell_type": "markdown",
   "metadata": {},
   "source": [
    "### 3.2. Norm"
   ]
  },
  {
   "cell_type": "markdown",
   "metadata": {},
   "source": [
    "**3.2.1.** A **norm** on a vector space $V$ over $\\mathbb{F}$ is a nonnegative function $\\|\\cdot\\|:V \\to [0,\\infty)$ that satisfies the following properties:\n",
    "\n",
    "- $\\|v\\| = 0$ if and only if $v = 0_V$;\n",
    "- $\\|a \\cdot v\\| = |a|\\|v\\|$ for each $a \\in \\mathbb{F}$ and every $v \\in V$;\n",
    "- $\\|v + w\\| \\leq \\|v\\| + \\|w\\|$ for all $v,w \\in V$. (triangle inequality)\n",
    "\n",
    "A vector space $V$ equipped with a norm $\\|\\cdot\\|$ is called a **normed linear space** $(V,\\|\\cdot\\|)$."
   ]
  },
  {
   "cell_type": "markdown",
   "metadata": {},
   "source": [
    "**3.2.2.** We observe that\n",
    "\n",
    "$$d(v,w) = \\|v-w\\|$$\n",
    "\n",
    "is always a metric (**§2.1.1**) on $V$. If the corresponding metric is complete, the norm is said to be **complete**. A normed linear space whose norm is complete is called a **Banach space**."
   ]
  },
  {
   "cell_type": "markdown",
   "metadata": {},
   "source": [
    "### 3.3. Euclidean Space"
   ]
  },
  {
   "cell_type": "markdown",
   "metadata": {},
   "source": [
    "**3.3.1.** The Euclidean $n$-space $\\mathbb{R}^n$ with the usual Euclidean norm\n",
    "\n",
    "$$\\|\\vec{v}\\| = \\sqrt{\\sum_{i=1}^n |v^i|^2}$$\n",
    "\n",
    "is a Banach space. More generally, the $p$-norm\n",
    "\n",
    "$$\\|\\vec{v}\\|_p = \\left( \\sum_{i=1}^n |v^i|^p \\right)^{1/p}$$\n",
    "\n",
    "is a complete norm on $\\mathbb{R}^n$ whenever $p \\geq 1$. The limit\n",
    "\n",
    "$$\\|\\vec{v}\\|_\\infty = \\lim_{p \\to \\infty} \\|\\vec{v}\\|_p = \\max_{1 \\leq i \\leq n} |v^i|$$\n",
    "\n",
    "is also a complete norm on $\\mathbb{R}^n$, called the $\\infty$-norm."
   ]
  },
  {
   "cell_type": "markdown",
   "metadata": {},
   "source": [
    "**3.3.2.** The $p$-norms satisfy [Hölder's inequality](https://en.wikipedia.org/wiki/H%C3%B6lder%27s_inequality)\n",
    "\n",
    "$$\\| \\vec{v} \\bullet \\vec{w} \\|_1 \\leq \\|\\vec{v}\\|_p \\|\\vec{w}\\|_q$$\n",
    "\n",
    "whenever $\\frac{1}{p} + \\frac{1}{q} = 1$, where $\\vec{v} \\bullet \\vec{w}$ is the coordinatewise product\n",
    "\n",
    "$$\\vec{v} \\bullet \\vec{w} = (v^1 w^1, \\ldots, v^n w^n).$$\n",
    "\n",
    "The inequality holds even when $p = 1$ and $q =\\infty$."
   ]
  },
  {
   "cell_type": "markdown",
   "metadata": {},
   "source": [
    "### 3.4. Sequence Spaces"
   ]
  },
  {
   "cell_type": "markdown",
   "metadata": {},
   "source": [
    "**3.4.1** We now generalize the $p$-norm to infinitely many coordinates. Given a sequence $(x_n)_{n=0}^\\infty$ of numbers in $\\mathbb{F}$, we define the $l_p$-norm  of $(x_n)_n$ to be the quantity\n",
    "\n",
    "$$\\left( \\sum_{i=0}^\\infty |x_n|^p \\right)^{1/p},$$\n",
    "\n",
    "provided the infinite sum converges. The space $l_p$ of all sequences with finite $l_p$-norm with coordinatewise addition\n",
    "\n",
    "$$(x_n)_n + (y_n)_n = (x_n + y_n)_n$$\n",
    "\n",
    "and scalar multiplication\n",
    "\n",
    "$$a \\cdot (x_n)_n = (ax_n)_n$$\n",
    "\n",
    "is a Banach space. Similarly, the vector space $l^\\infty$ of all bounded sequences equipped with the $l_\\infty$-norm\n",
    "\n",
    "$$\\|(x_n)_n\\|_\\infty = \\sup_{n \\geq 0} |x_n|$$\n",
    "\n",
    "is a Banach space."
   ]
  },
  {
   "cell_type": "markdown",
   "metadata": {},
   "source": [
    "**3.4.2.** The sequence $p$-norms also satisfy [Hölder's inequality](https://en.wikipedia.org/wiki/H%C3%B6lder%27s_inequality)\n",
    "\n",
    "$$\\| (x_n)_n \\bullet (y_n)_n \\|_1 \\leq \\|(x_n)_n\\|_p \\|(y_n)_n\\|_q$$\n",
    "\n",
    "whenever $\\frac{1}{p} + \\frac{1}{q} = 1$, where $(x_n)_n \\bullet (y_n)_n$ is the termwise product\n",
    "\n",
    "$$(x_n)_n \\bullet (y_n)_n = (x_ny_n)_n.$$\n",
    "\n",
    "The inequality holds even when $p = 1$ and $q =\\infty$."
   ]
  },
  {
   "cell_type": "markdown",
   "metadata": {},
   "source": [
    "### 3.5. Lebesgue Spaces"
   ]
  },
  {
   "cell_type": "markdown",
   "metadata": {},
   "source": [
    "**3.5.1.** We now examine the *continuous* analogues of the sequence spaces. For each $p \\geq 1$, we can define the $L_p$-norm of a function $f:\\mathbb{R} \\to \\mathbb{R}$ as follows:\n",
    "\n",
    "$$\\|f\\|_p = \\left( \\int_{-\\infty}^\\infty |f(t)|^p \\, dt \\right)^{1/p}.$$\n",
    "\n",
    "The space $L_p(\\mathbb{R})$ of all functions $f:\\mathbb{R} \\to \\mathbb{R}$ whose $L_p$-norm is finite, equipped with pointwise addition\n",
    "\n",
    "$$(f+g)(x) = f(x) + g(x)$$\n",
    "\n",
    "and scalar multiplication\n",
    "\n",
    "$$(af)(x) = af(x)$$\n",
    "\n",
    "is a normed linear space, provided that we declare two functions that differ only on a [null set](https://en.wikipedia.org/wiki/Null_set#Lebesgue_measure) to be equal. Whether the norm is complete depends on how the integral is defined. Under the framework of [Lebesgue integration](https://en.wikipedia.org/wiki/Lebesgue_integration), the Lebesgue space $L_p(\\mathbb{R})$ is a Banach space."
   ]
  },
  {
   "cell_type": "markdown",
   "metadata": {},
   "source": [
    "**3.5.2.** The Lebesgue $p$-norms also satisfy [Hölder's inequality](https://en.wikipedia.org/wiki/H%C3%B6lder%27s_inequality)\n",
    "\n",
    "$$\\| fg \\|_1 \\leq \\|f\\|_p \\|g\\|_q$$\n",
    "\n",
    "whenever $\\frac{1}{p} + \\frac{1}{q} = 1$, where $fg$ is the pointwise product\n",
    "\n",
    "$$fg(x) = f(x)g(x).$$"
   ]
  },
  {
   "cell_type": "markdown",
   "metadata": {},
   "source": [
    "### 3.6. Uniform Norm"
   ]
  },
  {
   "cell_type": "markdown",
   "metadata": {},
   "source": [
    "**3.6.1.** Let $(K,d_K)$ be a compact metric space (**§2.4**). The vector space $\\mathscr{C}(K)$ of all continuous (**§2.2.1**) functions $f:(K, d_K) \\to \\mathbb{R}$ equipped with the **uniform norm**\n",
    "\n",
    "$$\\|f\\|_u = \\max_{x \\in K} |f(x)|$$\n",
    "\n",
    "is a Banach space. (The name derives from the norm's relationship to [uniform convergence](https://en.wikipedia.org/wiki/Uniform_convergence).) The norm always exists and is finite, as every continuous function on a compact metric space is bounded and attains its maximum."
   ]
  },
  {
   "cell_type": "markdown",
   "metadata": {},
   "source": [
    "**3.6.2.** There is a nice characterization of compact subspaces (**§2.1.3**) of $\\mathscr{C}(K)$, called the [Arzelà&ndash;Ascoli theorem](https://en.wikipedia.org/wiki/Arzel%C3%A0%E2%80%93Ascoli_theorem). A collection $\\mathcal{C}$ of functions in $\\mathscr{C}(K)$ is a compact subset of $\\mathscr{C}(K)$ if and only if the following conditions hold:\n",
    "\n",
    "- $\\mathcal{C}$ is **uniformly bounded**, viz., there exists a real number $M$ such that $|f(x)| < M$ for each $f \\in \\mathcal{C}$ and every $x \\in K$;\n",
    "- $\\mathcal{C}$ is **equicontinuous**, viz., for each $\\epsilon > 0$, there exists a $\\delta > 0$ such that $d_K(x,y) < \\delta$ implies $|f(x) - f(y)| < \\epsilon$ for all $f \\in \\mathcal{C}$."
   ]
  },
  {
   "cell_type": "markdown",
   "metadata": {},
   "source": [
    "This characterization of compactness is useful in developing the mathematical foundations of [reproducing kernel Hilbert spaces](http://www.stats.ox.ac.uk/~sejdinov/teaching/atml14/Theory_2014.pdf)."
   ]
  },
  {
   "cell_type": "markdown",
   "metadata": {},
   "source": [
    "### 3.7. Operator Norm"
   ]
  },
  {
   "cell_type": "markdown",
   "metadata": {},
   "source": [
    "**3.7.1.** Let $(V,\\|\\cdot\\|_V)$ and $(W,\\|\\cdot\\|_W)$ be normed linear spaces over $\\mathbb{F}$. A **linear transformation**, or a **linear operator**, from $V$ to $W$ is a function $T:V \\to W$ such that\n",
    "\n",
    "- $T(x+y) = T(x) + T(y)$ for all $x,y \\in V$;\n",
    "- $T(a \\cdot x) = a \\cdot T(x)$ for all $a \\in \\mathbb{F}$ and $x \\in V$.\n",
    "\n",
    "We often write $Tx$ in place of $T(x)$."
   ]
  },
  {
   "cell_type": "markdown",
   "metadata": {},
   "source": [
    "**3.7.2.** We note that the **kernel** of $T$\n",
    "\n",
    "$$\\ker T = \\{x \\in V: Tx = 0_W\\}$$\n",
    "\n",
    "is a linear subspace of $V$, and that the **image** of $T$\n",
    "\n",
    "$$\\operatorname{im} T = \\{Tx : x \\in V\\}$$\n",
    "\n",
    "is a linear subspace of $W$."
   ]
  },
  {
   "cell_type": "markdown",
   "metadata": {},
   "source": [
    "**3.7.2.** The **operator norm** $\\|T\\|_{\\operatorname{op}}$ of a linear operator $T:(V,\\|\\cdot\\|_V) \\to (W,\\|\\cdot\\|_W)$ is the smallest constant $C$ such that\n",
    "\n",
    "$$\\|Tx\\|_W \\leq C\\|x\\|_V$$\n",
    "\n",
    "for all $x \\in X$. In other words, $\\|T\\|_{\\operatorname{op}}$ is the smallest [Lipschitz constant](https://en.wikipedia.org/wiki/Lipschitz_continuity) of $T$. The operator norm also equals\n",
    "\n",
    "$$\\sup_{x \\in V} \\frac{\\|Tx\\|_W}{\\|v\\|_V}.$$"
   ]
  },
  {
   "cell_type": "markdown",
   "metadata": {},
   "source": [
    "The collection $\\mathscr{L}(V,W)$ of all linear operators $T:(V,\\|\\cdot\\|_V) \\to (W,\\|\\cdot\\|_W)$ with finite operator norm is called an **operator space**. The operator space with pointwise addition\n",
    "\n",
    "$$(T+S)x = Tx + Sx,$$\n",
    "\n",
    "scalar multiplication\n",
    "\n",
    "$$(aT)x = aTx,$$\n",
    "\n",
    "and the operator norm $\\|\\cdot\\|_{\\operatorname{op}}$ is a normed linear space. If, in addition, $(W,\\|\\cdot\\|_W)$ is a Banach space, then so is $(\\mathscr{L}(V,W), \\|\\cdot\\|_{V \\to W})$."
   ]
  },
  {
   "cell_type": "markdown",
   "metadata": {},
   "source": [
    "**3.7.3.** Since $\\mathbb{F}$ is a Banach space, the operator space $\\mathscr{L}(V, \\mathbb{F})$ is a Banach space (**§3.2.2**) for every choice of vector space $V$ over $\\mathbb{F}$. The operator space $\\mathscr{L}(V, \\mathbb{F})$ is called the **dual space** of $V$ and is denoted by $V^*$. An element of $V^*$ is called a **bounded linear functional** on $V$."
   ]
  },
  {
   "cell_type": "markdown",
   "metadata": {},
   "source": [
    "### 3.8. Matrix Operator Norm"
   ]
  },
  {
   "cell_type": "markdown",
   "metadata": {},
   "source": [
    "**3.8.1.** Let $T:\\mathbb{R}^n \\to \\mathbb{R}^m$ be a linear operator. The **matrix representation** of $T$ is an $m$-by-$n$ matrix\n",
    "\n",
    "$$A = \\begin{pmatrix} a_{11} & \\cdots & a_{1n} \\\\ \\vdots & \\ddots & \\vdots \\\\ a_{m1} & \\cdots & a_{mn} \\end{pmatrix}$$\n",
    "\n",
    "whose columns are defined by the formula\n",
    "\n",
    "$$\\begin{pmatrix} a_{1i} \\\\ \\vdots \\\\ a_{mi} \\end{pmatrix} = Te^i.$$\n",
    "\n",
    "Here $e^i$ is the $i$th **coordinate vector**\n",
    "\n",
    "$$(0,0,\\ldots,0,\\underbrace{1}_{\\mbox{$i$th}},0,\\ldots,0)$$\n",
    "\n",
    "of $\\mathbb{R}^n$"
   ]
  },
  {
   "cell_type": "markdown",
   "metadata": {},
   "source": [
    "**3.8.2.** Given the matrix representation $A$ of a linear operator $T:\\mathbb{R}^n \\to \\mathbb{R}^m$, we can compute $Tv$ for an arbitrary choice of $v \\in \\mathbb{R}^n$ by taking the **matrix-vector product**\n",
    "\n",
    "$$Av = \\begin{pmatrix} a_{11} & \\cdots & a_{1n} \\\\ \\vdots & \\ddots & \\vdots \\\\ a_{m1} & \\cdots & a_{mn} \\end{pmatrix} \\begin{pmatrix} v^1 \\\\ \\vdots \\\\ v^n \\end{pmatrix} = \\begin{pmatrix} a_{11} v^1 + \\cdots + a_{1n} v^n \\\\ \\vdots \\\\ a_{m1} v^1 + \\cdots + a_{mn} v^n \\end{pmatrix}.$$"
   ]
  },
  {
   "cell_type": "markdown",
   "metadata": {},
   "source": [
    "Similarly, we can compute the composite operator $S \\circ T$ of two linear operators $T: \\mathbb{R}^n \\to \\mathbb{R}^m$ and $S:\\mathbb{R}^m \\to \\mathbb{R}^p$ by taking the matrix representations $A = (a_{ij})$ and $B = (b_{ij})$ of $T$ and $S$, respectively and computing their **matrix product** $BA$, whose entries are given by the formula\n",
    "\n",
    "$$(BA)_{ij} = b_{i1} a_{1j} + \\cdots + b_{in} a_{nj}.$$"
   ]
  },
  {
   "cell_type": "markdown",
   "metadata": {},
   "source": [
    "**3.8.3.** We remark that there is one-to-one correspondence between matrices and linear operators. We have already seen that every linear operator has a matrix representation (**§3.8.1**). Conversely, for each $m$-by-$n$ matrix $A$, there is a corresponding linear operator $T_A: \\mathbb{R}^n \\to \\mathbb{R}^m$ defined by the formula\n",
    "\n",
    "$$T_Av = Av.$$"
   ]
  },
  {
   "cell_type": "markdown",
   "metadata": {},
   "source": [
    "**3.8.4.** The one-to-one correspondence suggests that we can define a **matrix operator norm** analogous to the operator norm. Of particular interest are the **matrix $p$-norms**: for each $p > 1$, we define the **$p$-norm** of an $m$-by-$n$ matrix $A$ to be the smallest constant $C$ such that\n",
    "\n",
    "$$\\|Av\\|_p \\leq C\\|v\\|_p$$\n",
    "\n",
    "for all vectors $v \\in \\mathbb{R}^n$. The vector $p$-norms are taken to be the Euclidean $p$-norms (**§3.3**). "
   ]
  },
  {
   "cell_type": "markdown",
   "metadata": {},
   "source": [
    "If $p = 1$, then\n",
    "\n",
    "$$\\|A\\|_1 = \\max_{1 \\leq j \\leq n} \\sum_{i=1}^m |a_{ij}|.$$\n",
    "\n",
    "If $p = \\infty$, then\n",
    "\n",
    "$$\\|A\\|_\\infty = \\max_{1 \\leq i \\leq m} \\sum_{j=1}^n |a_{ij}|.$$\n",
    "\n",
    "The matrix 2-norm of $A$ equals the largest **singular value** of $A$. We discuss the singular value decomposition in **§5**."
   ]
  },
  {
   "cell_type": "markdown",
   "metadata": {},
   "source": [
    "### 3.9. Frobenius Norm"
   ]
  },
  {
   "cell_type": "markdown",
   "metadata": {},
   "source": [
    "**3.9.1.** An important matrix norm that is not an operator norm is the **Frobenius norm**\n",
    "\n",
    "$$\\|A\\|_F = \\sqrt{\\sum_{i=1}^m \\sum_{j=1}^n |a_{ij}|^2}.$$"
   ]
  },
  {
   "cell_type": "markdown",
   "metadata": {},
   "source": [
    "**3.9.2.** Let us derive an alternate computational formula for the Frobenius norm."
   ]
  },
  {
   "cell_type": "markdown",
   "metadata": {},
   "source": [
    "The [**Hermitian transpose**](https://en.wikipedia.org/wiki/Conjugate_transpose) of an $m$-by-$n$ matrix $A = (a_{ij})$ is the $n$-by-$m$ matrix $A^* = (\\overline{a_{ji}})$. The **trace** of an $m$-by-$n$ matrix $A$ is the sum of its diagonal entries:\n",
    "\n",
    "$$\\operatorname{tr} A = a_11 + a_{22} + a_{kk},$$\n",
    "\n",
    "where $k = \\min(m,n)$."
   ]
  },
  {
   "cell_type": "markdown",
   "metadata": {},
   "source": [
    "We now observe that\n",
    "\n",
    "$$\\begin{align*}\n",
    "A^*A\n",
    "&= \\begin{pmatrix} a_{11} & \\cdots & a_{1n} \\\\ \\vdots & \\ddots & \\vdots \\\\ a_{m1} & \\cdots & a_{mn} \\end{pmatrix} \\begin{pmatrix} \\overline{a_{11}} & \\cdots & \\overline{a_{m1}} \\\\ \\vdots & \\ddots & \\vdots \\\\ \\overline{a_{1n}} & \\cdots & \\overline{a_{mn}} \\end{pmatrix} \\\\\n",
    "&= \\begin{pmatrix} a_{11}\\overline{a_{11}} + \\cdots + a_{1n} \\overline{a_{1n}} & \\cdots & a_{11}\\overline{a_{n1}} + \\cdots + a_{1n} \\overline{a_{mn}} \\\\ \\vdots & \\ddots & \\vdots \\\\ a_{m1}\\overline{a_{11}} + \\cdots + a_{mn} \\overline{a_{1n}} & \\cdots & a_{m1}\\overline{a_{m1}} + \\cdots + a_{mn} \\overline{a_{mn}}\\end{pmatrix}\n",
    "\\end{align*}.$$\n",
    "\n",
    "Therefore,\n",
    "\n",
    "$$\\operatorname{tr}(A^*A) = \\sum_{i=1}^m \\sum_{j=1}^m a_{ij} \\overline{a_{ij}} = \\sum_{i=1}^m \\sum_{j=1}^m |a_{ij}|^2,$$\n",
    "\n",
    "and so\n",
    "\n",
    "$$\\|A\\|_F = \\sqrt{\\operatorname{tr}(A^*A)}.$$\n",
    "\n",
    "Similarly,\n",
    "\n",
    "$$\\|A\\|_F = \\sqrt{\\operatorname{tr}(AA^*)}.$$"
   ]
  },
  {
   "cell_type": "markdown",
   "metadata": {},
   "source": [
    "## 4. Inner Product Spaces"
   ]
  },
  {
   "cell_type": "markdown",
   "metadata": {},
   "source": [
    "### 4.1. Definitions and Examples"
   ]
  },
  {
   "cell_type": "markdown",
   "metadata": {},
   "source": [
    "**4.1.1.** Two vectors $v,w \\in \\mathbb{R}^2$ are **orthogonal** if the angle between $v$ and $w$\n",
    "\n",
    "$$\\theta = \\arccos\\left( \\frac{v^1w^1 + v^2w^2}{\\|v\\|_2 \\|w\\|_2} \\right)$$\n",
    "\n",
    "is $\\pi/2$. This is the case if and only if $v^1w^1 + v^2w^2 = 0$.\n",
    "\n",
    "Similarly, we define the **dot product** of two vectors $v,w \\in \\mathbb{R}^n$ as the sum\n",
    "\n",
    "$$v \\cdot w = v^1w^1 + \\cdots + v^nw^n,$$\n",
    "\n",
    "and declare $v$ and $w$ to be **orthogonal** in case their dot product is 0."
   ]
  },
  {
   "cell_type": "markdown",
   "metadata": {},
   "source": [
    "**4.1.2.** To speak of orthogonality in a broader context, we generalize the dot product. An **inner product** on a vector space $V$ over $\\mathbb{F}$ is a function $\\langle \\cdot, \\cdot \\rangle: V \\times X \\to \\mathbb{F}$ that satisfies the following properties:\n",
    "\n",
    "- linearity in the first coordinate: $\\langle av + bw, x \\rangle = a \\langle v, x \\rangle + b \\langle w, x \\rangle$ for all $v,w,x \\in V$ and $a,b \\in \\mathbb{F}$;\n",
    "- Hermitian property: $\\langle w, v \\rangle = \\overline{\\langle v, w \\rangle}$, the [complex conjugate](https://en.wikipedia.org/wiki/Complex_conjugate) of $\\langle v, w \\rangle$, for all $v,w \\in V$;\n",
    "- positive-definitness: $\\langle v, v \\rangle \\geq 0$ for all $v \\in V$;\n",
    "- uniqueness of zero dot product: $\\langle v,v \\rangle = 0$ if and only if $v = 0_V$.\n",
    "\n",
    "An **inner product space** is a vector space equipped with an inner product."
   ]
  },
  {
   "cell_type": "markdown",
   "metadata": {},
   "source": [
    "**4.1.3.** An inner product space is a special kind of normed linear space. Indeed, for each inner product $\\langle \\cdot, \\cdot \\rangle$ on a vector space $V$, the function $\\|\\cdot\\|:V \\to [0,\\infty)$ defined by the formula\n",
    "\n",
    "$$\\|v\\| = \\sqrt{\\langle v,v \\rangle}$$\n",
    "\n",
    "is a norm (**§3.2.1**) satisfying the **parallelogram law**\n",
    "\n",
    "$$\\|v+w\\|^2 + \\|v-w\\|^2 = 2(\\|v\\|^2 + \\|w\\|^2).$$\n",
    "\n",
    "Conversely, every norm $\\|\\cdot\\|$ on $V$ that satisfies the parallelogram law induces an inner product (**§4.1.2**), given by the **polarization identity**\n",
    "\n",
    "$$\\langle v,w \\rangle = \\frac{1}{4} \\left( \\|v + w\\|^2 - \\|v-w\\|^2 + i \\|v + iw\\|^2 - i \\|v - iw\\|^2 \\right).$$\n",
    "\n",
    "This, in particular, shows that every inner product space is a metric space (**§3.2.2**). If the associated metric is complete, we say that the inner product space is a **Hilbert space**."
   ]
  },
  {
   "cell_type": "markdown",
   "metadata": {},
   "source": [
    "**4.1.4.** The quintessential example of a Hilbert space is the $L_2$-space, whether it be the Euclidean version (**§3.3**)\n",
    "\n",
    "$$l_2^n = \\left\\{ v \\in \\mathbb{R}^n : \\|v\\|_2 < \\infty \\right\\}$$\n",
    "\n",
    "with inner product\n",
    "\n",
    "$$\\langle v ,w \\rangle = \\sum_{i=1}^n v^i \\overline{w^i},$$\n",
    "\n",
    "the sequence space version (**§3.4**)\n",
    "\n",
    "$$l_2 = \\left\\{ (a_n)_{n=0}^\\infty : \\|(a_n)_n\\|_2 < \\infty \\right\\}$$\n",
    "\n",
    "with inner product\n",
    "\n",
    "$$\\langle (a_n)_n, (b_n)_n \\rangle = \\sum_{n=0}^\\infty a_n \\overline{b_n},$$\n",
    "\n",
    "or the function space version (**§3.5**)\n",
    "\n",
    "$$L_2(\\mathbb{R}) = \\left\\{ f:\\mathbb{R} \\to \\mathbb{R} : \\|f\\|_2 < \\infty \\right\\}$$\n",
    "\n",
    "with inner product\n",
    "\n",
    "$$\\langle f, g \\rangle = \\int_{-\\infty}^\\infty f(t) \\overline{g(t)} \\, dt.$$"
   ]
  },
  {
   "cell_type": "markdown",
   "metadata": {},
   "source": [
    "In all three cases, we observe that\n",
    "\n",
    "$$|\\langle f, g \\rangle| \\leq \\langle |f|, |g| \\rangle = \\|fg\\|_1 \\leq \\|f\\|_2\\|g\\|_2,$$\n",
    "\n",
    "where the last inequality is a consequence of Hölder's inequality (**§3.3.2**, **§3.4.2**, **§3.5.2**). It turns out this inequality holds on all inner product spaces, in the following form:\n",
    "\n",
    "$$|\\langle v, w \\rangle| \\leq \\|v\\|\\|w\\|.$$\n",
    "\n",
    "This is the most important tool in the theory of inner product spaces, known as the **Schwarz inequality**. The reader might be familiar with the $l_2^n$-space version of it, the **Cauchy&ndash;Schwarz inequality**."
   ]
  },
  {
   "cell_type": "markdown",
   "metadata": {},
   "source": [
    "### 4.2. Orthogonality"
   ]
  },
  {
   "cell_type": "markdown",
   "metadata": {},
   "source": [
    "**4.2.1.** On an inner product space $V$, we say two vectors $v$ and $w$ are **orthogonal** if $\\langle v, w \\rangle = 0$. We write $v \\perp w$ to denote that $v$ and $w$ are orthogonal."
   ]
  },
  {
   "cell_type": "markdown",
   "metadata": {},
   "source": [
    "**4.2.2.** The [**Pythagorean theorem**](https://en.wikipedia.org/wiki/Pythagorean_theorem), perhaps the most famous theorem in mathematics, admits a natural generalization on inner product spaces. Indeed, we have that\n",
    "\n",
    "$$\\|v + w\\|^2 = \\|v\\|^2 + \\|w\\|^2$$\n",
    "\n",
    "whenever $v \\perp w$."
   ]
  },
  {
   "cell_type": "markdown",
   "metadata": {},
   "source": [
    "**4.2.3.** The set of all vectors orthogonal to a fixed vector $v$ is called the **orthogonal complement** of $v$ and is denoted by $v^\\perp$. Generalizing, we define the orthogonal complement of a set $E$ as\n",
    "\n",
    "$$E^\\perp = \\bigcup_{v \\in E} v^\\perp.$$"
   ]
  },
  {
   "cell_type": "markdown",
   "metadata": {},
   "source": [
    "**4.2.4.** In $\\mathbb{R}^2$, every vector can be written as a sum of two orthogonal vectors:\n",
    "\n",
    "$$(v,w) = (v,0) + (0,w).$$\n",
    "\n",
    "We shall see presently that this is true of all Hilbert spaces (**§4.1.3**)."
   ]
  },
  {
   "cell_type": "markdown",
   "metadata": {},
   "source": [
    "A **projection** of a vector space $V$ is a function that maps all vectors in $V$ into a linear subspace (**§3.1.2**) of $V$ in a structure-preserving way. Formally, a projection of a vector space $V$ onto a linear subspace $M$ is a surjective linear transformation $P:V \\to M$ such that $P|_M = I$, the identity linear transformation\n",
    "\n",
    "$$Ix = x.$$\n",
    "\n",
    "Since $P|_M = I$, we see that $P \\circ P = P$. In fact, every linear transformation $T$ that satisfies the [**idempotence**](https://en.wikipedia.org/wiki/Idempotence) property\n",
    "\n",
    "$$T \\circ T = T$$\n",
    "\n",
    "is a projection."
   ]
  },
  {
   "cell_type": "markdown",
   "metadata": {},
   "source": [
    "Every projection $P$ of a vector space $V$ admits a **direct-sum decomposition**\n",
    "\n",
    "$$V = P(V) \\oplus (I-P)(V)$$\n",
    "\n",
    "of $V$. What this means is that each $x \\in V$ can be written as the sum\n",
    "\n",
    "$$x = y+z$$\n",
    "\n",
    "with $y \\in P(V)$ and $z \\in (I-P)(V)$ in precisely one way: namely, $y = Px$ and $z = (I-P)x = x - Px$. In light of the decomposition, we often refer to $P$ as the **projection of $V$ onto $P(V)$ along $(I-P)(V)$**."
   ]
  },
  {
   "cell_type": "markdown",
   "metadata": {},
   "source": [
    "To harness the power of orthogonality, we ought to have a direct-sum decomposition of orthogonal subspaces. This, in general, is not possible for inner product spaces. On a Hilbert space (**§4.1.3**), however, we can always find an orthogonal projection onto a closed linear subspace."
   ]
  },
  {
   "cell_type": "markdown",
   "metadata": {},
   "source": [
    "Let $\\mathcal{H}$ be a Hilbert space. The norm induced by the inner product turns $\\mathcal{H}$ into a metric space, and so it makes sense to talk about closed sets (**§2.1.2**). Whenever $M$ is a linear subspace of $\\mathcal{H}$ that is also a closed subset of $\\mathcal{H}$ (\"closed linear subspace\"), there exists a projection $P:\\mathcal{H} \\to M$ such that\n",
    "\n",
    "$$(I-P)(M) = M^\\perp.$$\n",
    "\n",
    "This, in particular, implies that\n",
    "\n",
    "$$\\mathcal{H} = M \\oplus M^\\perp.$$\n",
    "\n",
    "$P$ is called an **orthogonal projection** of $\\mathcal{H}$ onto $M$ along $M^\\perp$ (**§4.2.3**)."
   ]
  },
  {
   "cell_type": "markdown",
   "metadata": {},
   "source": [
    "**4.2.5.** An immediate consequence of the existence of orthogonal projections (**§4.2.4**) is the existence of **nontrivial orthogonal complements**. Indeed, if $M$ is a closed proper linear subspace of $\\mathcal{H}$&mdash;a closed linear subspace (**§4.2.4**) that is also a [proper subset](http://mathworld.wolfram.com/ProperSubset.html) of $\\mathcal{H}$&mdash;then $M^\\perp$ is nonempty."
   ]
  },
  {
   "cell_type": "markdown",
   "metadata": {},
   "source": [
    "This, in particular, implies that\n",
    "\n",
    "$$(\\ker l)^\\perp$$\n",
    "\n",
    "is nontrivial whenever $l \\in \\mathcal{H}^*$, whence a quick computation shows that\n",
    "\n",
    "$$lx = \\langle x, (\\overline{lz})z \\rangle$$\n",
    "\n",
    "for any choice of $z \\in (\\ker l)^\\perp$ with $\\|z\\|_{\\mathcal{H}} = 1$. Moreover,\n",
    "\n",
    "$$\\|(\\overline{lz})z\\|_{\\mathcal{H}} = |(\\overline{lz})|\\|z\\|_{\\mathcal{H}} = |lz| \\leq \\|l\\|_{\\mathcal{H}^*}\\|z\\|_{\\mathcal{H}} = \\|l\\|_{\\mathcal{H}^*}$$\n",
    "\n",
    "by the definition of the operator norm (**§3.7.2**). Conversely,\n",
    "\n",
    "$$|lz| = |\\overline{lz}|\\|z\\|_{\\mathcal{H}} = \\|(\\overline{lz}z\\|_{\\mathcal{H}} = \\|(\\overline{lz}z\\|_{\\mathcal{H}}\\|z\\|_{\\mathcal{H}},$$\n",
    "\n",
    "and so $\\|l\\|_{\\mathcal{H}^*} \\leq \\|u\\|_{\\mathcal{H}}$ by the definition of the operator norm. It follows that\n",
    "\n",
    "$$\\|l\\|_{\\mathcal{H}^*} = \\|(\\overline{lz})z\\|_{\\mathcal{H}}$$"
   ]
  },
  {
   "cell_type": "markdown",
   "metadata": {},
   "source": [
    "To summarize, we have the **Riesz representation theorem**: every bounded linear functional $l \\in \\mathcal{H}^*$ on a Hilbert space $\\mathcal{H}$ admits $u_l \\in \\mathcal{H}$ such that $\\|l\\|_{\\mathcal{H}^*} = \\|u_l\\|_{\\mathcal{H}}$ and\n",
    "\n",
    "$$lx = \\langle x, u_l \\rangle$$\n",
    "\n",
    "for all $x \\in \\mathcal{H}$. It turns out that $u_l$ is unique as well, as we discuss below (**§4.3.3**)."
   ]
  },
  {
   "cell_type": "markdown",
   "metadata": {},
   "source": [
    "### 4.3. Unitary Classification of Hilbert Spaces"
   ]
  },
  {
   "cell_type": "markdown",
   "metadata": {},
   "source": [
    "**4.3.1.** A linear operator $T:(X, \\langle\\cdot,\\cdot\\rangle_X) \\to (Y,\\langle\\cdot,\\cdot\\rangle_Y)$ is **unitary** if\n",
    "\n",
    "$$\\langle Tx, Tx' \\rangle_Y = \\langle x,x' \\rangle_X$$\n",
    "\n",
    "for all $x,x' \\in X$. If $T$ is, in addition, a bijection, then $T$ is called a **unitary isomorphism.** We remark that the inverse function of a unitary isomorphism is a unitary isomorphism.\n",
    "\n",
    "Two inner prodcut spaces are said to be **unitarily isomorphic** if there is a unitary isomorphism between them. Unitary isomorphic inner product spaces are understood to be indistinguishable, as far as the structurutal properties of inner product spaces are concerned."
   ]
  },
  {
   "cell_type": "markdown",
   "metadata": {},
   "source": [
    "**4.3.2.** A linear operator $T:(X, \\|\\cdot\\|_X) \\to (Y, \\|\\cdot\\|_Y)$ is **isometric** if\n",
    "\n",
    "$$\\|Tx\\|_Y = \\|x\\|_X$$\n",
    "\n",
    "for all $x \\in X$."
   ]
  },
  {
   "cell_type": "markdown",
   "metadata": {},
   "source": [
    "Let us now assume that $X$ and $Y$ are inner product spaces, whose norms are induced by their inner products (**§4.1.3**). By the polarization identity (**§4.1.3**), every isometric linear operator is unitary, and vice versa. It follows, in particular, that an isometric isomorphism is a unitary isomorphism."
   ]
  },
  {
   "cell_type": "markdown",
   "metadata": {},
   "source": [
    "We note that every isometric linear operator is injective. Indeed, if $Tx = Tx'$, then\n",
    "\n",
    "$$0_Y = Tx - Tx' = T(x-x').$$\n",
    "\n",
    "Since\n",
    "\n",
    "$$\\|x-x'\\|_X = \\|T(x-x')\\|_Y = \\|0_Y\\| = 0,$$\n",
    "\n",
    "we conclude that $x - x' = 0_X$, i.e., $x = x'$."
   ]
  },
  {
   "cell_type": "markdown",
   "metadata": {},
   "source": [
    "It follows that every surjective isometric linear operator is an isometric isomorphism, hence a unitary isomorphism."
   ]
  },
  {
   "cell_type": "markdown",
   "metadata": {},
   "source": [
    "**4.3.3.** We show that the Riesz representation theorem (**§4.2.5**) furnishes a unitary isomorphism between a Hilbert space $\\mathcal{H}$ and its dual space $\\mathcal{H}^*$. We define a linear operator $T:\\mathcal{H}^* \\to \\mathcal{H}$ by the formula\n",
    "\n",
    "$$Tl = u_l,$$\n",
    "\n",
    "where $u_l$ is a vector corresponding to $l$ given in the Riesz representation theorem. Since $\\|l\\|_{\\mathcal{H}^*} = \\|u_l\\|_{\\mathcal{H}}$ for all $l \\in \\mathcal{H}^*$, we see that $T$ is isometric."
   ]
  },
  {
   "cell_type": "markdown",
   "metadata": {},
   "source": [
    "It thus suffices to show that $T$ is surjective (**§4.3.2**). To this end, we fix $u \\in \\mathcal{H}$ and observe that the function $l_u:\\mathcal{H} \\to \\mathbb{F}$ defined by the formula \n",
    "\n",
    "$$l_ux = \\langle x, u \\rangle$$\n",
    "\n",
    "is a bounded linear functional on $\\mathcal{H}$. It now follows that $Tl_u = u$, and so $T$ is surjective."
   ]
  },
  {
   "cell_type": "markdown",
   "metadata": {},
   "source": [
    "We conclude that $T$ is an isometric isomorphism, hence a unitary isomorphism."
   ]
  },
  {
   "cell_type": "markdown",
   "metadata": {},
   "source": [
    "**4.3.4.** We now classify Hilbert spaces up to a unitary isomorphism."
   ]
  },
  {
   "cell_type": "markdown",
   "metadata": {},
   "source": [
    "We say that a set of collection of vectors $\\mathscr{U} = \\{u_\\alpha\\}_{\\alpha}$ in a Hilbert space $\\mathcal{H}$, potentially [uncountable](https://en.wikipedia.org/wiki/Uncountable_set), is an **orthonormal set** if $\\|u_\\alpha\\| = 1$ for all $\\alpha$ and $u_\\alpha \\perp u_\\beta$ for all distinct $\\alpha$ and $\\beta$. If, in addition, $\\mathscr{U}$ satisfies one of the properties below, we say $\\mathscr{U}$ is an **orthonormal basis** of $\\mathcal{H}$:\n",
    "\n",
    "- $\\mathscr{U}$ is **complete**, i.e., $\\mathscr{U}^\\perp = \\{0\\}$;\n",
    "- **Parseval's identity** holds for $\\mathscr{U}$, i.e.,\n",
    "\n",
    "$$\\|x\\|_{\\mathcal{H}} = \\sum_{\\alpha} |\\langle x, u_\\alpha \\rangle|^2$$\n",
    "\n",
    "for all $x \\in \\mathcal{H}$;\n",
    "- the orthonormal expansion identity\n",
    "\n",
    "$$ x = \\sum_{\\alpha} \\langle x, u_\\alpha \\rangle u_\\alpha$$\n",
    "\n",
    "holds for all $x \\in \\mathcal{H}$.\n",
    "\n",
    "It follows from [Zorn's lemma](https://en.wikipedia.org/wiki/Zorn%27s_lemma) that every Hilbert space has an orthonormal basis."
   ]
  },
  {
   "cell_type": "markdown",
   "metadata": {},
   "source": [
    "The above *uncountable* sums are not, in fact, uncountable. For each $x \\in \\mathcal{H}$, there are at most [countable](https://en.wikipedia.org/wiki/Countable_set) indices $\\alpha$ such that $\\langle x, u_\\alpha \\rangle \\neq 0$. The infinite sum in the orthonormal expansion identity is to be understood in terms of **unconditional convergence**, which stipulates an existence of a vector $L$ such that the sequence of partial sums of the infinite sum converges to $L$ for all possible reordering of indices."
   ]
  },
  {
   "cell_type": "markdown",
   "metadata": {},
   "source": [
    "The fact that the infinite sums above must be countable is a counsequence of **Bessel's inequality**\n",
    "\n",
    "$$\\sum_{\\alpha} |\\langle x, u_\\alpha \\rangle|^2 \\leq \\|x\\|^2_{\\mathcal{H}},$$\n",
    "\n",
    "which holds for every orthonormal set $\\{u_\\alpha\\}_{\\alpha}$."
   ]
  },
  {
   "cell_type": "markdown",
   "metadata": {},
   "source": [
    "**4.3.5.** We finish the unitary classification of Hilbert spaces by constructing the **discrete $l_2$ spaces** as follows."
   ]
  },
  {
   "cell_type": "markdown",
   "metadata": {},
   "source": [
    "Let $\\mathcal{I}$ be a nonempty set, and let $\\mathbb{F}^\\mathcal{I}$ be the set of all funtions $f:\\mathcal{I} \\to \\mathbb{F}$. We define the $l_2$-norm of $f \\in \\mathbb{F}^\\mathcal{I}$ to be the sum\n",
    "\n",
    "$$\\|f\\|_2 = \\sum_{\\alpha \\in \\mathcal{I}} |f(\\alpha)|^2,$$\n",
    "\n",
    "which makes sense if the set of nontrivial values\n",
    "\n",
    "$$\\{\\alpha \\in \\mathcal{I} : f(\\alpha) \\neq 0\\}$$\n",
    "\n",
    "is at most [countable](https://en.wikipedia.org/wiki/Countable_set). We define $l_2(\\mathcal{I})$ to be the collection of all $f \\in\\mathbb{F}^\\mathcal{I}$ with finite $l_2$-norm, with pointwise addition and pointwise scalar multiplication."
   ]
  },
  {
   "cell_type": "markdown",
   "metadata": {},
   "source": [
    "$l_2(\\mathcal{I})$ is a Hilbert space with inner product\n",
    "\n",
    "$$\\langle f,g \\rangle = \\sum_{\\alpha \\in \\mathcal{I}} f(\\alpha) \\overline{g(\\alpha)},$$\n",
    "\n",
    "where $\\overline{g(\\alpha)}$ is the [complex conjugate](https://en.wikipedia.org/wiki/Complex_conjugate) of $g(\\alpha)$."
   ]
  },
  {
   "cell_type": "markdown",
   "metadata": {},
   "source": [
    "Now, we fix a Hilbert space $\\mathcal{H}$ and find its orthonormal basis $\\{u_{\\alpha}\\}_{\\alpha \\in \\mathcal{I}}$ with index set $\\mathcal{I}$ (**§4.3.4**). We define $T:\\mathcal{H} \\to l_2(\\mathcal{I})$ by the formula\n",
    "\n",
    "$$T \\left( \\sum_{\\alpha \\in \\mathcal{I}} \\langle x, u_\\alpha \\rangle u_\\alpha \\right) = \\sum_{\\alpha \\in \\mathcal{I}} \\langle x, u_\\alpha \\rangle \\mathbb{1}_\\alpha$$\n",
    "\n",
    "where $1_\\alpha:\\mathcal{I} \\to \\mathbb{R}$ is 1 at $\\alpha$ and 0 everywhere else on $\\mathcal{I}$. $T$ is a unitary isomorphism."
   ]
  },
  {
   "cell_type": "markdown",
   "metadata": {},
   "source": [
    "We conclude that every Hilbert space is unitarily isomorphic to $l_2(\\mathcal{I})$ for some set $\\mathcal{I}$."
   ]
  },
  {
   "cell_type": "markdown",
   "metadata": {},
   "source": [
    "### 4.4. Hilbert Spaces with a Countable Orthonormal Basis"
   ]
  },
  {
   "cell_type": "markdown",
   "metadata": {},
   "source": [
    "**4.4.1.** We now study Hilbert spaces with a countable orthonormal basis."
   ]
  },
  {
   "cell_type": "markdown",
   "metadata": {},
   "source": [
    "A topological condition for countability is [separability](https://en.wikipedia.org/wiki/Separable_space): a Hilbert space has a countable orthonormal basis if and only if $\\mathcal{H}$ is separable. We shall not discuss separability in depth."
   ]
  },
  {
   "cell_type": "markdown",
   "metadata": {},
   "source": [
    "**4.4.2.** We say that a vector space $V$ over $\\mathbb{F}$ is **finite-dimensional** if there exists a finite subset $\\{e^1,\\ldots,e^n\\}$ such that, for each vector $v \\in V$, there is precisely one subset $\\{a_1,\\ldots,a_n\\}$ of $\\mathbb{F}$ such that\n",
    "\n",
    "$$v = a_1e^1 + \\cdots + a_ne^n.$$\n",
    "\n",
    "The subset $\\{e^1,\\ldots,e^n\\}$ is called a **basis** of $V$."
   ]
  },
  {
   "cell_type": "markdown",
   "metadata": {},
   "source": [
    "Every finite-dimensional inner product space is a Hilbert space. Let $\\mathcal{H}$ be a finite-dimensional Hilber space with a basis $\\{e^1,\\ldots,e^n\\}$. By setting\n",
    "\n",
    "$$u_1 = \\frac{e^1}{\\|e^1\\|_{\\mathcal{H}}}$$\n",
    "\n",
    "and\n",
    "\n",
    "$$u^{k+1} = \\frac{e^{k+1} - \\sum_{i=1}^k \\langle e^{k+1}, e^i \\rangle e^i}{ \\left\\|e^{k+1} - \\sum_{i=1}^k \\langle e^{k+1}, e^i \\rangle e^i \\right\\|_{\\mathcal{H}}}$$\n",
    "\n",
    "for each $k \\geq 1,$ we obtain an orthonormal basis\n",
    "\n",
    "$$\\{u^1,\\ldots,u^n\\}$$\n",
    "\n",
    "of $\\mathcal{H}$. This is called the **Gram&ndash;Schmidt process**."
   ]
  },
  {
   "cell_type": "markdown",
   "metadata": {},
   "source": [
    "The Gram&ndash;Schmidt process produces a finite orthonormal basis for each finite-dimensional Hilbert space. It follows that every finite dimensional Hilbert space is unitarily isomorphic to $l_2(\\mathcal{I})$ for some finite $\\mathcal{I}$ (**§4.3.5**). Since $\\mathbb{R}^n$ with the dot product (**§4.3.5**) has its $n$ coordinate vectors (**§3.8.1**) as its orthonormal basis, $\\mathbb{R}^n$ with the dot product is unitarily isomorphic to $l_2(\\{1,2,\\ldots,n\\})$. It follows that every finite-dimensional Hilbert space with a basis of size $n$ is unitarily isomorphic to $\\mathbb{R}^n$."
   ]
  },
  {
   "cell_type": "markdown",
   "metadata": {},
   "source": [
    "**4.4.3.** The function space $L_2(\\mathbb{R})$ (**§3.4**) has a countable orthonormal basis."
   ]
  },
  {
   "cell_type": "markdown",
   "metadata": {},
   "source": [
    "A **dyadic interval** in $\\mathbb{R}$ is an interval of the form\n",
    "\n",
    "$$[m2^{-k}, (m+1)2^{-k})$$\n",
    "\n",
    "for some $m,k \\in \\mathbb{Z}$. Given a dyadic interval $I = [m2^{-k},(m+1)2^{-k})$, we let\n",
    "\n",
    "$$\\begin{align*}\n",
    "I_L &= [m2^{-k}, (m+1/2)2^{-k}) \\\\\n",
    "I_R &= [(m+1/2)2^{-k}, (m+1)2^{-k})\n",
    "\\end{align*}$$\n",
    "\n",
    "and define the **Haar function associated with the interval $I$**\n",
    "\n",
    "$$h_I = \\frac{1}{\\sqrt{\\vert I \\vert}}(\\chi_{I_L} - \\chi_{I_R}).$$\n",
    "\n",
    "Here $\\vert I \\vert$ is $2^{-k}$, the length of $I$. For any set $E$, the indicator function $\\chi_E$ is defined by the formula\n",
    "\n",
    "$$\\chi_E(x) = \\begin{cases} 1 & \\mbox{ if } x \\in E \\\\ 0 & \\mbox{ if } x \\not\\in E. \\end{cases}$$"
   ]
  },
  {
   "cell_type": "markdown",
   "metadata": {},
   "source": [
    "The collection of Haar functions\n",
    "\n",
    "$$\\{h_I : \\mbox{$I$ is a dyadic interval in $\\mathbb{R}$}\\}$$\n",
    "\n",
    "is a countable orthonormal basis of $L_2(\\mathbb{R})$, called the [Haar wavelet](https://en.wikipedia.org/wiki/Haar_wavelet) basis of $L_2(\\mathbb{R})$."
   ]
  },
  {
   "cell_type": "markdown",
   "metadata": {},
   "source": [
    "**4.4.4.** In general, $\\varphi \\in L_2(\\mathbb{R})$ is called a [**wavelet**](https://en.wikipedia.org/wiki/Wavelet) if the set\n",
    "\n",
    "$$\\{\\varphi_{m,k} : m,k \\in \\mathbb{Z}\\}$$\n",
    "\n",
    "consisting of the functions\n",
    "\n",
    "$$\\varphi_{m,k}(x) = 2^{-m/2} \\varphi(2^mx - n)$$\n",
    "\n",
    "is a countable orthonormal basis of $L_2(\\mathbb{R})$."
   ]
  },
  {
   "cell_type": "markdown",
   "metadata": {},
   "source": [
    "Wavelets are useful in [signal processing](https://en.wikipedia.org/wiki/Signal_processing) and [compressed sensing](https://en.wikipedia.org/wiki/Compressed_sensing)."
   ]
  },
  {
   "cell_type": "markdown",
   "metadata": {},
   "source": [
    "**4.4.5.** We now consider the function space $L_2([-\\pi,\\pi])$ consisting of functions $f:[-\\pi,\\pi] \\to \\mathbb{C}$ whose $L_2$-norm\n",
    "\n",
    "$$\\|f\\|_2 = \\frac{1}{2\\pi} \\int_{-\\pi}^\\pi |f(t)|^2 \\, dt$$\n",
    "\n",
    "is finite. With pointwise addition and scalar multiplicaiton, $L_2([-\\pi,\\pi])$ is a Banach space. The inner product\n",
    "\n",
    "$$\\langle f,g \\rangle = \\frac{1}{2\\pi} \\int_{-\\pi}^\\pi f(t) \\overline{g(t)} \\, dt$$\n",
    "\n",
    "turns $L_2([-\\pi,\\pi])$ into a Hilbert space."
   ]
  },
  {
   "cell_type": "markdown",
   "metadata": {},
   "source": [
    "The **Fourier basis**\n",
    "\n",
    "$$\\{e^{inx} : n \\in \\mathbb{Z}\\}$$\n",
    "\n",
    "is a countable orthonormal basis of $L_2([-\\pi,\\pi])$. The orthonormal expansion\n",
    "\n",
    "$$f = \\sum_{n \\in \\mathbb{Z}} \\langle f,e^{inx} \\rangle e^{inx}$$\n",
    "\n",
    "is called the **Fourier series** of $f$, and the quantity\n",
    "\n",
    "$$\\langle f,e^{inx} \\rangle$$\n",
    "\n",
    "the **$n$th Fourier coefficient** of $f$. The double-ended sum is understood to be the limit\n",
    "\n",
    "$$\\lim_{N \\to \\infty} \\sum_{n=-N}^N \\langle f, e^{inx} \\rangle e^{inx}.$$"
   ]
  },
  {
   "cell_type": "markdown",
   "metadata": {},
   "source": [
    "Parseval's identity (**§4.3.4**) takes the form\n",
    "\n",
    "$$\\|f\\|_2 = \\sum_{n \\in \\mathbb{Z}} |\\langle f, e^{inx} \\rangle|^2,$$\n",
    "\n",
    "known as the **Plancherel identity**. This, in particular, shows that the right-hand side converges."
   ]
  },
  {
   "cell_type": "markdown",
   "metadata": {},
   "source": [
    "**4.4.6.** The sequence space $l_2$ (**§3.2**) has a countable orthonormal basis."
   ]
  },
  {
   "cell_type": "markdown",
   "metadata": {},
   "source": [
    "To see this, we first consider a related sequence space $l_2(\\mathbb{Z})$, which consists of double-ended sequence $(a_n)_{n \\in \\mathbb{Z}}$ with inner product\n",
    "\n",
    "$$\\langle (a_n)_{n \\in \\mathbb{Z}}, (b_n)_{n \\in \\mathbb{Z}} \\rangle_{l_2(\\mathbb{Z})} = \\sum_{n \\in \\mathbb{Z}} a_n \\overline{b_n}$$"
   ]
  },
  {
   "cell_type": "markdown",
   "metadata": {},
   "source": [
    "We show that $l_2(\\mathbb{Z})$ is isometrically isomorphic to $L_2([-\\pi,\\pi])$. To this end, we define a linear operator $T:l_2(\\mathbb{Z}) \\to L_2([-\\pi,\\pi])$ by setting\n",
    "\n",
    "$$T(a_n)_{n \\in \\mathbb{Z}} = \\sum_{n \\in \\mathbb{Z}} a_n e^{inx}.$$\n",
    "\n",
    "Observe that\n",
    "\n",
    "$$\\|(a_n)_{n \\in \\mathbb{Z}}\\|_{l_2(\\mathbb{Z})} = \\sum_{n \\in \\mathbb{Z}} |a_n|^2 = \\sum_{n \\in \\mathbb{Z}} |a_n e^{inx}|^2 = \\left\\|\\sum_{n \\in \\mathbb{Z}} a_n e^{inx}\\right\\|_2.$$"
   ]
  },
  {
   "cell_type": "markdown",
   "metadata": {},
   "source": [
    "Therefore, $T$ is an isometric linear operator. "
   ]
  },
  {
   "cell_type": "markdown",
   "metadata": {},
   "source": [
    "Now, for each $f \\in L_2([-\\pi,\\pi])$, the Plancherel identity (**§4.4.5**) implies that the Fourier coefficients of $f$ form a sequence in $l_2(\\mathbb{Z})$. It follows that $T$ is surjective, whence $T$ is an isometric isomorphism. We conclude that $l_2(\\mathbb{Z})$ is isometrically isomorphic to $L_2([-\\pi,\\pi])$"
   ]
  },
  {
   "cell_type": "markdown",
   "metadata": {},
   "source": [
    "Now, we define a bijective function $f:\\mathbb{N} \\to \\mathbb{Z}$ by setting\n",
    "\n",
    "$$f(n) = \\begin{cases} \\frac{n}{2} & \\mbox{ if } n \\mbox{ is even}; \\\\ \\frac{-n-1}{2} & \\mbox{ if } n \\mbox{ is odd}.\\end{cases}$$\n",
    "\n",
    "The function $S:l_2 \\to l_2(\\mathbb{Z})$ defined by the formula\n",
    "\n",
    "$$S(a_n)_n = (a_{f^{-1}(m)})_{m \\in \\mathbb{Z}}$$\n",
    "\n",
    "is easily seen to be an isometric isomorphism."
   ]
  },
  {
   "cell_type": "markdown",
   "metadata": {},
   "source": [
    "It now follows that $T \\circ S:l_2 \\to L_2([-\\pi,\\pi])$ is an isometric isomorphism, whence $l_2$ is unitarily isomorphic to $L_2([-\\pi,\\pi])$. Since the Fourier basis\n",
    "\n",
    "$$\\{e^{inx} : n \\in \\mathbb{Z}\\}$$\n",
    "\n",
    "is a countable orthonormal basis of $L_2([-\\pi,\\pi])$ (**§4.4.5**), we conclude that\n",
    "\n",
    "$$\\{(T \\circ S)^{-1}(e^{inx}) : n \\in \\mathbb{Z}\\}$$\n",
    "\n",
    "is a countable orthonormal basis of $l_2$."
   ]
  },
  {
   "cell_type": "markdown",
   "metadata": {},
   "source": [
    "## 5. Singular Value Decomposition"
   ]
  }
 ],
 "metadata": {
  "kernelspec": {
   "display_name": "Python 3",
   "language": "python",
   "name": "python3"
  },
  "language_info": {
   "codemirror_mode": {
    "name": "ipython",
    "version": 3
   },
   "file_extension": ".py",
   "mimetype": "text/x-python",
   "name": "python",
   "nbconvert_exporter": "python",
   "pygments_lexer": "ipython3",
   "version": "3.6.2"
  }
 },
 "nbformat": 4,
 "nbformat_minor": 2
}
